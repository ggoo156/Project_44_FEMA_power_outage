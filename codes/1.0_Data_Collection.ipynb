{
 "cells": [
  {
   "cell_type": "markdown",
   "metadata": {},
   "source": [
    "# 1. Data Collection Trial and Error\n",
    "*Author: Boom*"
   ]
  },
  {
   "cell_type": "markdown",
   "metadata": {},
   "source": [
    "### City Data Frame"
   ]
  },
  {
   "cell_type": "code",
   "execution_count": 1,
   "metadata": {},
   "outputs": [],
   "source": [
    "import pandas as pd"
   ]
  },
  {
   "cell_type": "code",
   "execution_count": 2,
   "metadata": {},
   "outputs": [],
   "source": [
    "# Read .csv\n",
    "cities = pd.read_csv('./US_City_Data/USCFinal.csv', index_col=0)\n",
    "\n",
    "# Filter out only NE cities\n",
    "NE_cities = cities[cities['state_id'].isin([\"ME\", \"VT\", \"NH\",\"MA\", \"CT\", \"RI\"])]\n",
    "\n",
    "# Extract only \n",
    "NE_cities = NE_cities.loc[:,['city', 'state_id', 'state_name', 'county_name', 'lat', 'lng']]\n",
    "\n",
    "# View\n",
    "NE_cities.head()\n",
    "\n",
    "# Save down\n",
    "NE_cities.to_csv(\"./datasets/new_england_cities_geo-data.csv\")"
   ]
  },
  {
   "cell_type": "markdown",
   "metadata": {},
   "source": [
    "### TwitterScraper"
   ]
  },
  {
   "cell_type": "markdown",
   "metadata": {},
   "source": [
    "Spoke to Tucker and he said if there's no way around this, we can turn this into a \"spam filter\"-like project where we can idenfity posts that are actually about power outages.\n",
    "\n",
    "Alternatively, I suggested we could add a column to our data frame where we make up a location, which he says is fine for proof-of-concept. He said that's even better since it'll give us a chance to work with geospatial data visualization."
   ]
  },
  {
   "cell_type": "code",
   "execution_count": 4,
   "metadata": {},
   "outputs": [
    {
     "name": "stdout",
     "output_type": "stream",
     "text": [
      "Requirement already satisfied: twitterscraper in c:\\users\\adiwid\\anaconda3\\lib\\site-packages (0.9.3)\n",
      "Requirement already satisfied: lxml in c:\\users\\adiwid\\anaconda3\\lib\\site-packages (from twitterscraper) (4.2.5)\n",
      "Requirement already satisfied: requests in c:\\users\\adiwid\\anaconda3\\lib\\site-packages (from twitterscraper) (2.19.1)\n",
      "Requirement already satisfied: bs4 in c:\\users\\adiwid\\anaconda3\\lib\\site-packages (from twitterscraper) (0.0.1)\n",
      "Requirement already satisfied: coala-utils~=0.5.0 in c:\\users\\adiwid\\anaconda3\\lib\\site-packages (from twitterscraper) (0.5.1)\n",
      "Requirement already satisfied: chardet<3.1.0,>=3.0.2 in c:\\users\\adiwid\\anaconda3\\lib\\site-packages (from requests->twitterscraper) (3.0.4)\n",
      "Requirement already satisfied: certifi>=2017.4.17 in c:\\users\\adiwid\\anaconda3\\lib\\site-packages (from requests->twitterscraper) (2018.10.15)\n",
      "Requirement already satisfied: idna<2.8,>=2.5 in c:\\users\\adiwid\\anaconda3\\lib\\site-packages (from requests->twitterscraper) (2.7)\n",
      "Requirement already satisfied: urllib3<1.24,>=1.21.1 in c:\\users\\adiwid\\anaconda3\\lib\\site-packages (from requests->twitterscraper) (1.23)\n",
      "Requirement already satisfied: beautifulsoup4 in c:\\users\\adiwid\\anaconda3\\lib\\site-packages (from bs4->twitterscraper) (4.6.3)\n"
     ]
    }
   ],
   "source": [
    "# Install Twitter Scraper\n",
    "!pip install twitterscraper\n",
    "import twitterscraper"
   ]
  },
  {
   "cell_type": "code",
   "execution_count": 5,
   "metadata": {},
   "outputs": [
    {
     "data": {
      "text/html": [
       "<div>\n",
       "<style scoped>\n",
       "    .dataframe tbody tr th:only-of-type {\n",
       "        vertical-align: middle;\n",
       "    }\n",
       "\n",
       "    .dataframe tbody tr th {\n",
       "        vertical-align: top;\n",
       "    }\n",
       "\n",
       "    .dataframe thead th {\n",
       "        text-align: right;\n",
       "    }\n",
       "</style>\n",
       "<table border=\"1\" class=\"dataframe\">\n",
       "  <thead>\n",
       "    <tr style=\"text-align: right;\">\n",
       "      <th></th>\n",
       "      <th>id</th>\n",
       "      <th>text</th>\n",
       "      <th>timestamp</th>\n",
       "    </tr>\n",
       "  </thead>\n",
       "  <tbody>\n",
       "  </tbody>\n",
       "</table>\n",
       "</div>"
      ],
      "text/plain": [
       "Empty DataFrame\n",
       "Columns: [id, text, timestamp]\n",
       "Index: []"
      ]
     },
     "execution_count": 5,
     "metadata": {},
     "output_type": "execute_result"
    }
   ],
   "source": [
    "# Load Packages\n",
    "from twitterscraper import query_tweets\n",
    "import datetime\n",
    "\n",
    "# Create empty template tweet dataframe to later populate \n",
    "tweet_df =pd.DataFrame(columns=[\"id\",\"text\",\"timestamp\"])\n",
    "\n",
    "# Check\n",
    "tweet_df"
   ]
  },
  {
   "cell_type": "code",
   "execution_count": 12,
   "metadata": {},
   "outputs": [
    {
     "name": "stderr",
     "output_type": "stream",
     "text": [
      "INFO: queries: ['blackout OR blackouts OR outage OR outages OR power outage since:2018-01-01 until:2018-12-31']\n",
      "INFO: Got 0 tweets (0 new).\n"
     ]
    }
   ],
   "source": [
    "# Query Tweets between specified dates\n",
    "list_of_tweets = query_tweets(\"blackout OR blackouts OR outage OR outages OR power outage\",\n",
    "                              begindate = datetime.date(2018,1,1),\n",
    "                              enddate = datetime.date(2018,12,31),\n",
    "                              poolsize = 1)"
   ]
  },
  {
   "cell_type": "code",
   "execution_count": 7,
   "metadata": {},
   "outputs": [],
   "source": [
    "# Extract features of tweets to populate dataframe:\n",
    "for row, tweet in enumerate(list_of_tweets):\n",
    "    tweet_df.loc[row,'id'] = tweet.id\n",
    "    tweet_df.loc[row,'text'] = tweet.text\n",
    "    tweet_df.loc[row,'timestamp'] = tweet.timestamp"
   ]
  },
  {
   "cell_type": "code",
   "execution_count": 8,
   "metadata": {},
   "outputs": [
    {
     "name": "stdout",
     "output_type": "stream",
     "text": [
      "(0, 3)\n"
     ]
    }
   ],
   "source": [
    "# Examine\n",
    "print(tweet_df.shape)"
   ]
  },
  {
   "cell_type": "code",
   "execution_count": 9,
   "metadata": {},
   "outputs": [],
   "source": [
    "# Save as .csv\n",
    "# tweet_df.to_csv(\"./dirty_tweets_20180101-20181231.csv\")"
   ]
  }
 ],
 "metadata": {
  "kernelspec": {
   "display_name": "Python 3",
   "language": "python",
   "name": "python3"
  },
  "language_info": {
   "codemirror_mode": {
    "name": "ipython",
    "version": 3
   },
   "file_extension": ".py",
   "mimetype": "text/x-python",
   "name": "python",
   "nbconvert_exporter": "python",
   "pygments_lexer": "ipython3",
   "version": "3.6.7"
  }
 },
 "nbformat": 4,
 "nbformat_minor": 2
}
